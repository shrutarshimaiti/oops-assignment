{
  "nbformat": 4,
  "nbformat_minor": 0,
  "metadata": {
    "colab": {
      "provenance": []
    },
    "kernelspec": {
      "name": "python3",
      "display_name": "Python 3"
    },
    "language_info": {
      "name": "python"
    }
  },
  "cells": [
    {
      "cell_type": "code",
      "execution_count": null,
      "metadata": {
        "id": "lPw9OC5BT02e"
      },
      "outputs": [],
      "source": []
    },
    {
      "cell_type": "markdown",
      "source": [
        "Q1. What are the five key concepts of Object-Oriented Programming (OOP)?\n",
        "A-Here are the five key OOP concepts:\n",
        "\n",
        "Encapsulation:\n",
        "\n",
        "Encapsulation is the bundling of data (attributes) and methods (functions) that operate on the data into a single unit, or class. It also restricts direct access to some of the object's components, which can help prevent the accidental modification of data.\n",
        "Example: In Python, private attributes are denoted by a single or double underscore _attribute or __attribute, restricting their access outside the class.\n",
        "Abstraction:\n",
        "\n",
        "Abstraction means hiding the internal implementation details of a class and only exposing the functionality. It helps in reducing complexity by providing a clear interface for the user.\n",
        "Example: Using abstract classes and methods in Python (via the abc module) forces subclasses to implement certain methods.\n",
        "Inheritance:\n",
        "\n",
        "Inheritance allows a class (called a subclass or derived class) to inherit attributes and methods from another class (called a superclass or base class). This promotes code reuse and the creation of hierarchical relationships between classes.\n",
        "Example: A Dog class can inherit from an Animal class, gaining access to its methods and properties.\n",
        "Polymorphism:\n",
        "\n",
        "Polymorphism allows objects of different classes to be treated as objects of a common superclass. It also allows methods to perform different tasks based on the object that invokes them.\n",
        "Example: The + operator can be overloaded to add numbers or concatenate strings. This is an example of polymorphism where the same operation behaves differently based on the context.\n",
        "Method Overriding (or Dynamic Binding):\n",
        "\n",
        "This concept is related to inheritance, where a subclass can provide a specific implementation of a method that is already defined in its superclass. This enables dynamic dispatch, where the method that gets called is determined at runtime based on the object type.\n",
        "Example: In Python, overriding the __str__ method in a subclass to return a customized string representation of an object."
      ],
      "metadata": {
        "id": "Gh0zWtbYT11l"
      }
    },
    {
      "cell_type": "markdown",
      "source": [
        " Q2. Write a Python class for a `Car` with attributes for `make`, `model`, and `year`. Include a method to display the car's information.\n"
      ],
      "metadata": {
        "id": "u8mQBD28T4iy"
      }
    },
    {
      "cell_type": "code",
      "source": [
        "class Car:\n",
        "    def __init__(self, make, model, year):\n",
        "        self.make = make\n",
        "        self.model = model\n",
        "        self.year = year\n",
        "\n",
        "    def display_info(self):\n",
        "        print(f\"Car Information: {self.year} {self.make} {self.model}\")\n",
        "\n",
        "\n",
        "my_car = Car(\"Maruti\", \"Baleno\", 2024)\n",
        "my_car.display_info()\n"
      ],
      "metadata": {
        "colab": {
          "base_uri": "https://localhost:8080/"
        },
        "id": "ZPxBRHUbUYPt",
        "outputId": "822f64eb-89df-4934-cae3-57b4998df671"
      },
      "execution_count": null,
      "outputs": [
        {
          "output_type": "stream",
          "name": "stdout",
          "text": [
            "Car Information: 2024 Maruti Baleno\n"
          ]
        }
      ]
    },
    {
      "cell_type": "markdown",
      "source": [
        " Q3.Explain the difference between instance methods and class methods. Provide an example of each.\n",
        " A-\n",
        " Instance Methods:\n",
        "Instance methods are functions defined in a class that operate on an instance of the class. These methods can access and modify the object’s state (its attributes).\n",
        "They require the self parameter, which refers to the specific instance of the class that the method is being called on.\n",
        "\n",
        "The third question asks:\n",
        "\n",
        "Explain the difference between instance methods and class methods. Provide an example of each.\n",
        "\n",
        "Instance Methods:\n",
        "Instance methods are functions defined in a class that operate on an instance of the class. These methods can access and modify the object’s state (its attributes).\n",
        "They require the self parameter, which refers to the specific instance of the class that the method is being called on.\n",
        "\n",
        "Class Methods:\n",
        "Class methods are methods that operate on the class itself, not on instances. They have access to the class as a whole, not the individual object instances. Class methods are marked with the @classmethod decorator and take cls as their first parameter (which refers to the class, not an instance).\n",
        "Class methods cannot access instance-specific data (attributes), but they can modify class-level data.\n",
        "Key Differences:\n",
        "Instance Methods:\n",
        "\n",
        "Operate on individual instances of the class.\n",
        "Can access and modify instance-specific data.\n",
        "Use self as the first parameter.\n",
        "Class Methods:\n",
        "\n",
        "Operate on the class itself, not individual instances.\n",
        "Cannot modify instance-specific data, but can modify class-level data.\n",
        "Use cls as the first parameter."
      ],
      "metadata": {
        "id": "drDBYPA2VKqJ"
      }
    },
    {
      "cell_type": "code",
      "source": [
        "#instance method example\n",
        "class Dog:\n",
        "    def __init__(self, name, breed):\n",
        "        self.name = name\n",
        "        self.breed = breed\n",
        "\n",
        "\n",
        "    def bark(self):\n",
        "        print(f\"{self.name} is barking!\")\n",
        "\n",
        "\n",
        "dog1 = Dog(\"Buddy\", \"Golden Retriever\")\n",
        "dog1.bark()\n"
      ],
      "metadata": {
        "colab": {
          "base_uri": "https://localhost:8080/"
        },
        "id": "GCkT1HtGV-SP",
        "outputId": "95477d13-bbab-4d87-9b29-1b8a11e9725a"
      },
      "execution_count": null,
      "outputs": [
        {
          "output_type": "stream",
          "name": "stdout",
          "text": [
            "Buddy is barking!\n"
          ]
        }
      ]
    },
    {
      "cell_type": "code",
      "source": [
        "#class method example\n",
        "class Dog:\n",
        "    species = \"Canis lupus familiaris\"\n",
        "\n",
        "    def __init__(self, name, breed):\n",
        "        self.name = name\n",
        "        self.breed = breed\n",
        "\n",
        "    @classmethod\n",
        "    def get_species(cls):\n",
        "        return cls.species\n",
        "\n",
        "\n",
        "print(Dog.get_species())\n"
      ],
      "metadata": {
        "colab": {
          "base_uri": "https://localhost:8080/"
        },
        "id": "K7xOQXJ5WIQF",
        "outputId": "f360c8e2-03ce-4db7-e227-d0adb87a80e3"
      },
      "execution_count": null,
      "outputs": [
        {
          "output_type": "stream",
          "name": "stdout",
          "text": [
            "Canis lupus familiaris\n"
          ]
        }
      ]
    },
    {
      "cell_type": "markdown",
      "source": [
        "Q4. How does Python implement method overloading? Give an example.\n",
        "A-Python's Approach to Method Overloading\n",
        "In Python, method overloading (having multiple methods with the same name but different parameters) isn't supported the same way as in languages like Java or C++. Instead, Python handles method overloading through default arguments and variable-length arguments (*args and **kwargs)."
      ],
      "metadata": {
        "id": "Jx76xZPPW-2E"
      }
    },
    {
      "cell_type": "code",
      "source": [
        "class Example:\n",
        "    def method(self, a=None, b=None):\n",
        "        if a is not None and b is not None:\n",
        "            return a + b\n",
        "        elif a is not None:\n",
        "            return a\n",
        "        else:\n",
        "            return \"No arguments provided\"\n",
        "\n",
        "obj = Example()\n",
        "\n",
        "\n",
        "print(obj.method())\n",
        "print(obj.method(5))\n",
        "print(obj.method(5, 10))\n"
      ],
      "metadata": {
        "colab": {
          "base_uri": "https://localhost:8080/"
        },
        "id": "ZKEDujWjew4f",
        "outputId": "d4e62089-8c53-450b-fef9-389bccc8e1ab"
      },
      "execution_count": null,
      "outputs": [
        {
          "output_type": "stream",
          "name": "stdout",
          "text": [
            "No arguments provided\n",
            "5\n",
            "15\n"
          ]
        }
      ]
    },
    {
      "cell_type": "code",
      "source": [
        "class Example:\n",
        "    def method(self, *args):\n",
        "        if len(args) == 2:\n",
        "            return args[0] + args[1]\n",
        "        elif len(args) == 1:\n",
        "            return args[0]\n",
        "        else:\n",
        "            return \"No or too many arguments provided\"\n",
        "\n",
        "obj = Example()\n",
        "\n",
        "\n",
        "print(obj.method())\n",
        "print(obj.method(5))\n",
        "print(obj.method(5, 10))\n"
      ],
      "metadata": {
        "colab": {
          "base_uri": "https://localhost:8080/"
        },
        "id": "Dcf7QF1me4Et",
        "outputId": "59a94603-a400-43d9-f9e3-0706338a435e"
      },
      "execution_count": null,
      "outputs": [
        {
          "output_type": "stream",
          "name": "stdout",
          "text": [
            "No or too many arguments provided\n",
            "5\n",
            "15\n"
          ]
        }
      ]
    },
    {
      "cell_type": "code",
      "source": [],
      "metadata": {
        "id": "RNOHZhKXfSp0"
      },
      "execution_count": null,
      "outputs": []
    },
    {
      "cell_type": "markdown",
      "source": [
        "Q5. What are the three types of access modifiers in Python? How are they denoted?\n",
        "A-In Python, access modifiers control the visibility of class attributes and methods. There are three types of access modifiers:\n",
        "\n",
        "Public (default): Attributes and methods that are accessible from anywhere, both inside and outside the class.\n",
        "Protected: Attributes and methods that are intended for internal use but can be accessed from outside the class, though it is discouraged.\n",
        "Private: Attributes and methods that are intended to be inaccessible from outside the class and are restricted to internal use."
      ],
      "metadata": {
        "id": "8JlzFtoQf0n5"
      }
    },
    {
      "cell_type": "code",
      "source": [
        "#Public Access Modifier\n",
        "class Car:\n",
        "    def __init__(self, make, model):\n",
        "        self.make = make\n",
        "        self.model = model\n",
        "\n",
        "car = Car(\"Honda\", \"City\")\n",
        "print(car.make)\n"
      ],
      "metadata": {
        "colab": {
          "base_uri": "https://localhost:8080/"
        },
        "id": "BhWl3ddVgXb0",
        "outputId": "395ab2b3-fad5-47dd-9fb9-afe8885da47a"
      },
      "execution_count": null,
      "outputs": [
        {
          "output_type": "stream",
          "name": "stdout",
          "text": [
            "Honda\n"
          ]
        }
      ]
    },
    {
      "cell_type": "code",
      "source": [
        "#Protected Access Modifier\n",
        "class Car:\n",
        "    def __init__(self, make, model):\n",
        "        self._make = make\n",
        "        self._model = model\n",
        "\n",
        "car = Car(\"Honda\", \"Civic\")\n",
        "print(car._make)\n"
      ],
      "metadata": {
        "colab": {
          "base_uri": "https://localhost:8080/"
        },
        "id": "YRkkI36Zgiy-",
        "outputId": "88b9180f-ea25-4a54-95e2-b752e24cbea7"
      },
      "execution_count": null,
      "outputs": [
        {
          "output_type": "stream",
          "name": "stdout",
          "text": [
            "Honda\n"
          ]
        }
      ]
    },
    {
      "cell_type": "code",
      "source": [
        "# Private Access Modifier\n",
        "class Car:\n",
        "    def __init__(self, make, model):\n",
        "        self.__make = make\n",
        "        self.__model = model\n",
        "\n",
        "    def get_make(self):\n",
        "        return self.__make\n",
        "\n",
        "car = Car(\"Audi\", \"A8\")\n",
        "print(car.get_make())\n"
      ],
      "metadata": {
        "colab": {
          "base_uri": "https://localhost:8080/"
        },
        "id": "nbygtz2kg64I",
        "outputId": "702e7867-aa32-4575-b8ed-b95d4e4e525c"
      },
      "execution_count": null,
      "outputs": [
        {
          "output_type": "stream",
          "name": "stdout",
          "text": [
            "Audi\n"
          ]
        }
      ]
    },
    {
      "cell_type": "markdown",
      "source": [
        "Public: No underscores (e.g., self.make)\n",
        "Protected: Single underscore (e.g., self._make)\n",
        "Private: Double underscores (e.g., self.__make)"
      ],
      "metadata": {
        "id": "Dm3yen1xibxa"
      }
    },
    {
      "cell_type": "markdown",
      "source": [
        " Q6.Describe the five types of inheritance in Python. Provide a simple example of multiple inheritance.\n",
        " A-In Python, there are five types of inheritance that determine how classes can inherit attributes and methods from one or more parent classes.\n",
        "\n",
        "1.Single Inheritance-In single inheritance, a subclass inherits from a single parent class. This is the simplest form of inheritance.\n",
        "2.Multiple Inheritance-In multiple inheritance, a subclass can inherit from more than one parent class. Python uses the Method Resolution Order (MRO) to determine the order in which methods are inherited when there's ambiguity.\n",
        "3.Multilevel Inheritance-In multilevel inheritance, a class can inherit from a child class, forming a chain of inheritance.\n",
        "4.Hierarchical Inheritance-In hierarchical inheritance, multiple subclasses inherit from a single parent class.\n",
        "5.Hybrid Inheritance-Hybrid inheritance is a combination of two or more types of inheritance. It can include single, multiple, multilevel, or hierarchical inheritance.\n"
      ],
      "metadata": {
        "id": "E69jnsNLisbd"
      }
    },
    {
      "cell_type": "code",
      "source": [
        "\n",
        "class Parent:\n",
        "    def show_parent(self):\n",
        "        print(\"This is the parent class\")\n",
        "\n",
        "class Child(Parent):\n",
        "    def show_child(self):\n",
        "        print(\"This is the child class\")\n",
        "\n",
        "child = Child()\n",
        "child.show_parent()\n",
        "child.show_child()\n"
      ],
      "metadata": {
        "colab": {
          "base_uri": "https://localhost:8080/"
        },
        "id": "1w6lbb1aj_ZG",
        "outputId": "bfc96db2-2a76-4dce-8660-7207c70342c2"
      },
      "execution_count": null,
      "outputs": [
        {
          "output_type": "stream",
          "name": "stdout",
          "text": [
            "This is the parent class\n",
            "This is the child class\n"
          ]
        }
      ]
    },
    {
      "cell_type": "code",
      "source": [
        "\n",
        "class Parent1:\n",
        "    def show(self):\n",
        "        print(\"This is Parent 1\")\n",
        "\n",
        "class Parent2:\n",
        "    def show(self):\n",
        "        print(\"This is Parent 2\")\n",
        "\n",
        "class Child(Parent1, Parent2):\n",
        "    pass\n",
        "\n",
        "child = Child()\n",
        "child.show()\n"
      ],
      "metadata": {
        "colab": {
          "base_uri": "https://localhost:8080/"
        },
        "id": "bOCKice_kIU3",
        "outputId": "15b5ff20-c839-48bc-fd1e-4a8b7158e105"
      },
      "execution_count": null,
      "outputs": [
        {
          "output_type": "stream",
          "name": "stdout",
          "text": [
            "This is Parent 1\n"
          ]
        }
      ]
    },
    {
      "cell_type": "code",
      "source": [
        "\n",
        "class Grandparent:\n",
        "    def show_grandparent(self):\n",
        "        print(\"This is the grandparent class\")\n",
        "\n",
        "class Parent(Grandparent):\n",
        "    def show_parent(self):\n",
        "        print(\"This is the parent class\")\n",
        "\n",
        "class Child(Parent):\n",
        "    def show_child(self):\n",
        "        print(\"This is the child class\")\n",
        "\n",
        "child = Child()\n",
        "child.show_grandparent()\n",
        "child.show_parent()\n"
      ],
      "metadata": {
        "colab": {
          "base_uri": "https://localhost:8080/"
        },
        "id": "e1p0fna0kNHX",
        "outputId": "5fc5e083-d89c-4c57-fa46-54b07ed44269"
      },
      "execution_count": null,
      "outputs": [
        {
          "output_type": "stream",
          "name": "stdout",
          "text": [
            "This is the grandparent class\n",
            "This is the parent class\n"
          ]
        }
      ]
    },
    {
      "cell_type": "code",
      "source": [
        "\n",
        "class Grandparent:\n",
        "    def show_grandparent(self):\n",
        "        print(\"This is the grandparent class\")\n",
        "\n",
        "class Parent(Grandparent):\n",
        "    def show_parent(self):\n",
        "        print(\"This is the parent class\")\n",
        "\n",
        "class Child(Parent):\n",
        "    def show_child(self):\n",
        "        print(\"This is the child class\")\n",
        "\n",
        "child = Child()\n",
        "child.show_grandparent()\n",
        "child.show_parent()\n"
      ],
      "metadata": {
        "colab": {
          "base_uri": "https://localhost:8080/"
        },
        "id": "Dohckll3kRtg",
        "outputId": "e349c0bc-78ef-4fdc-d860-5721604a246c"
      },
      "execution_count": null,
      "outputs": [
        {
          "output_type": "stream",
          "name": "stdout",
          "text": [
            "This is the grandparent class\n",
            "This is the parent class\n"
          ]
        }
      ]
    },
    {
      "cell_type": "code",
      "source": [
        "\n",
        "class Parent:\n",
        "    def show(self):\n",
        "        print(\"This is the parent class\")\n",
        "\n",
        "class Child1(Parent):\n",
        "    def show_child1(self):\n",
        "        print(\"This is the first child class\")\n",
        "\n",
        "class Child2(Parent):\n",
        "    def show_child2(self):\n",
        "        print(\"This is the second child class\")\n",
        "\n",
        "child1 = Child1()\n",
        "child1.show()\n",
        "child2 = Child2()\n",
        "child2.show()\n"
      ],
      "metadata": {
        "colab": {
          "base_uri": "https://localhost:8080/"
        },
        "id": "otN5dvezkmMh",
        "outputId": "c1be2d53-ec1f-438b-add5-8e6a11517537"
      },
      "execution_count": null,
      "outputs": [
        {
          "output_type": "stream",
          "name": "stdout",
          "text": [
            "This is the parent class\n",
            "This is the parent class\n"
          ]
        }
      ]
    },
    {
      "cell_type": "code",
      "source": [
        "class Parent:\n",
        "    def show(self):\n",
        "        print(\"This is the parent class\")\n",
        "\n",
        "class Child1(Parent):\n",
        "    def show_child1(self):\n",
        "        print(\"This is the first child class\")\n",
        "\n",
        "class Child2(Parent):\n",
        "    def show_child2(self):\n",
        "        print(\"This is the second child class\")\n",
        "\n",
        "class Grandchild(Child1, Child2):\n",
        "    def show_grandchild(self):\n",
        "        print(\"This is the grandchild class\")\n",
        "\n",
        "grandchild = Grandchild()\n",
        "grandchild.show()\n"
      ],
      "metadata": {
        "colab": {
          "base_uri": "https://localhost:8080/"
        },
        "id": "MkLCGum8kq4w",
        "outputId": "c4630bcd-148e-47c1-d9f1-e528f800f652"
      },
      "execution_count": null,
      "outputs": [
        {
          "output_type": "stream",
          "name": "stdout",
          "text": [
            "This is the parent class\n"
          ]
        }
      ]
    },
    {
      "cell_type": "code",
      "source": [
        "class Animal:\n",
        "    def speak(self):\n",
        "        print(\"Animal speaks\")\n",
        "\n",
        "class Bird:\n",
        "    def fly(self):\n",
        "        print(\"Bird flies\")\n",
        "\n",
        "class Penguin(Animal, Bird):\n",
        "    def swim(self):\n",
        "        print(\"Penguin swims\")\n",
        "\n",
        "penguin = Penguin()\n",
        "penguin.speak()\n",
        "penguin.fly()\n",
        "penguin.swim()\n"
      ],
      "metadata": {
        "id": "k32PltH1kxC0"
      },
      "execution_count": null,
      "outputs": []
    },
    {
      "cell_type": "markdown",
      "source": [
        "Q7.What is the Method Resolution Order (MRO) in Python? How can you retrieve it programmatically?\n",
        "A-The Method Resolution Order (MRO) in Python is the order in which Python looks for a method or attribute in a class hierarchy when there are multiple inherited classes. It is particularly important in cases of multiple inheritance, as it determines the order in which parent classes are searched.\n",
        "\n",
        "Python uses the C3 Linearization (C3 superclass linearization) algorithm to perform the MRO. This ensures that the method resolution order respects the order of inheritance while avoiding the diamond problem (where a method might be inherited from multiple paths in the inheritance hierarchy).\n",
        "Retrieving MRO Programmatically:\n",
        "You can retrieve the MRO of a class using either the __mro__ attribute or the mro() method."
      ],
      "metadata": {
        "id": "kxE6MCSYk5W8"
      }
    },
    {
      "cell_type": "code",
      "source": [
        "#example\n",
        "class A:\n",
        "    def method(self):\n",
        "        print(\"A method\")\n",
        "\n",
        "class B(A):\n",
        "    def method(self):\n",
        "        print(\"B method\")\n",
        "\n",
        "class C(A):\n",
        "    def method(self):\n",
        "        print(\"C method\")\n",
        "\n",
        "class D(B, C):\n",
        "    def method(self):\n",
        "        print(\"D method\")\n",
        "\n",
        "\n",
        "print(D.mro())\n",
        "\n",
        "\n",
        "print(D.__mro__)\n"
      ],
      "metadata": {
        "colab": {
          "base_uri": "https://localhost:8080/"
        },
        "id": "KijphcBa2wqa",
        "outputId": "3aa3d20e-a5c0-4393-b472-2a09e00cb97c"
      },
      "execution_count": null,
      "outputs": [
        {
          "output_type": "stream",
          "name": "stdout",
          "text": [
            "[<class '__main__.D'>, <class '__main__.B'>, <class '__main__.C'>, <class '__main__.A'>, <class 'object'>]\n",
            "(<class '__main__.D'>, <class '__main__.B'>, <class '__main__.C'>, <class '__main__.A'>, <class 'object'>)\n"
          ]
        }
      ]
    },
    {
      "cell_type": "markdown",
      "source": [
        " Q8. Create an abstract base class `Shape` with an abstract method `area()`. Then create two subclasses\n",
        "`Circle` and `Rectangle` that implement the `area()` method."
      ],
      "metadata": {
        "id": "_G5NU9C13R_3"
      }
    },
    {
      "cell_type": "code",
      "source": [
        "from abc import ABC, abstractmethod\n",
        "import math\n",
        "\n",
        "\n",
        "class Shape(ABC):\n",
        "\n",
        "    @abstractmethod\n",
        "    def area(self):\n",
        "        pass\n",
        "\n",
        "\n",
        "class Circle(Shape):\n",
        "\n",
        "    def __init__(self, radius):\n",
        "        self.radius = radius\n",
        "\n",
        "\n",
        "    def area(self):\n",
        "        return math.pi * self.radius ** 2\n",
        "\n",
        "\n",
        "class Rectangle(Shape):\n",
        "\n",
        "    def __init__(self, width, height):\n",
        "        self.width = width\n",
        "        self.height = height\n",
        "\n",
        "\n",
        "    def area(self):\n",
        "        return self.width * self.height\n",
        "\n",
        "\n",
        "circle = Circle(5)\n",
        "rectangle = Rectangle(4, 6)\n",
        "\n",
        "print(f\"Circle area: {circle.area()}\")\n",
        "print(f\"Rectangle area: {rectangle.area()}\")\n"
      ],
      "metadata": {
        "colab": {
          "base_uri": "https://localhost:8080/"
        },
        "id": "1CcC-2Hj28HU",
        "outputId": "6170907b-e4ef-4799-8199-e28e2b7f0528"
      },
      "execution_count": null,
      "outputs": [
        {
          "output_type": "stream",
          "name": "stdout",
          "text": [
            "Circle area: 78.53981633974483\n",
            "Rectangle area: 24\n"
          ]
        }
      ]
    },
    {
      "cell_type": "markdown",
      "source": [
        "Q9. Demonstrate polymorphism by creating a function that can work with different shape objects to calculate and print their areas.\n",
        "A-To demonstrate polymorphism in Python, we can create a function that works with different objects (in this case, different shapes) to calculate and print their areas. Polymorphism allows objects of different classes to be treated the same way, as long as they implement the required interface or method.\n",
        "\n",
        "In this case, we can continue using the Shape, Circle, and Rectangle classes we defined earlier. We'll add another shape (Triangle) and write a function that calculates the area for any shape."
      ],
      "metadata": {
        "id": "lOOd5eEl4P_g"
      }
    },
    {
      "cell_type": "code",
      "source": [
        "from abc import ABC, abstractmethod\n",
        "import math\n",
        "\n",
        "class Shape(ABC):\n",
        "\n",
        "    @abstractmethod\n",
        "    def area(self):\n",
        "        pass\n",
        "\n",
        "class Circle(Shape):\n",
        "\n",
        "    def __init__(self, radius):\n",
        "        self.radius = radius\n",
        "\n",
        "    def area(self):\n",
        "        return math.pi * self.radius ** 2\n",
        "\n",
        "\n",
        "class Rectangle(Shape):\n",
        "\n",
        "    def __init__(self, width, height):\n",
        "        self.width = width\n",
        "        self.height = height\n",
        "\n",
        "    def area(self):\n",
        "        return self.width * self.height\n",
        "\n",
        "\n",
        "class Triangle(Shape):\n",
        "\n",
        "    def __init__(self, base, height):\n",
        "        self.base = base\n",
        "        self.height = height\n",
        "\n",
        "    def area(self):\n",
        "        return 0.5 * self.base * self.height\n",
        "\n",
        "\n",
        "def print_area(shape: Shape):\n",
        "    print(f\"The area is: {shape.area()}\")\n",
        "\n",
        "\n",
        "circle = Circle(5)\n",
        "rectangle = Rectangle(4, 6)\n",
        "triangle = Triangle(3, 7)\n",
        "\n",
        "\n",
        "print_area(circle)\n",
        "print_area(rectangle)\n",
        "print_area(triangle)\n"
      ],
      "metadata": {
        "colab": {
          "base_uri": "https://localhost:8080/"
        },
        "id": "0Wos7ZOr4kaV",
        "outputId": "7785ee6b-11b5-4464-e743-4845ca741a65"
      },
      "execution_count": null,
      "outputs": [
        {
          "output_type": "stream",
          "name": "stdout",
          "text": [
            "The area is: 78.53981633974483\n",
            "The area is: 24\n",
            "The area is: 10.5\n"
          ]
        }
      ]
    },
    {
      "cell_type": "code",
      "source": [],
      "metadata": {
        "id": "HID7x20V5CFm"
      },
      "execution_count": null,
      "outputs": []
    },
    {
      "cell_type": "markdown",
      "source": [
        "Q10.. Implement encapsulation in a `BankAccount` class with private attributes for `balance` and `account_number`. Include methods for deposit, withdrawal, and balance inquiry.\n",
        "A-To implement encapsulation in Python, you can define private attributes in a class, and provide methods to control access to these attributes. Encapsulation restricts direct access to some of an object’s components, which is a key principle of object-oriented programming (OOP). In Python, attributes are made private by prefixing their names with double underscores (__).\n",
        "\n",
        "Here’s how you can create a BankAccount class with private attributes (balance and account_number) and provide methods for depositing, withdrawing, and inquiring about the balance."
      ],
      "metadata": {
        "id": "1a2F0bxx5H_Y"
      }
    },
    {
      "cell_type": "code",
      "source": [
        "class BankAccount:\n",
        "    def __init__(self, account_number, balance=0):\n",
        "        self.__account_number = account_number  # Private attribute\n",
        "        self.__balance = balance                # Private attribute\n",
        "\n",
        "    # Method to deposit money\n",
        "    def deposit(self, amount):\n",
        "        if amount > 0:\n",
        "            self.__balance += amount\n",
        "            print(f\"Deposited {amount}. New balance is {self.__balance}.\")\n",
        "        else:\n",
        "            print(\"Deposit amount must be positive.\")\n",
        "\n",
        "\n",
        "    def withdraw(self, amount):\n",
        "        if 0 < amount <= self.__balance:\n",
        "            self.__balance -= amount\n",
        "            print(f\"Withdrew {amount}. New balance is {self.__balance}.\")\n",
        "        else:\n",
        "            print(\"Insufficient funds or invalid amount.\")\n",
        "\n",
        "\n",
        "    def check_balance(self):\n",
        "        return f\"Your balance is {self.__balance}.\"\n",
        "\n",
        "\n",
        "    def get_account_number(self):\n",
        "        return f\"Account Number: {self.__account_number}\"\n",
        "\n",
        "\n",
        "account = BankAccount(\"123456789\", 1000)\n",
        "\n",
        "\n",
        "print(account.check_balance())\n",
        "\n",
        "\n",
        "account.deposit(500)\n",
        "\n",
        "\n",
        "account.withdraw(200)\n",
        "\n",
        "\n",
        "print(account.get_account_number())\n",
        "\n",
        "\n"
      ],
      "metadata": {
        "colab": {
          "base_uri": "https://localhost:8080/"
        },
        "id": "phmljibWAz9T",
        "outputId": "43da85d8-07ee-4006-8fbd-8fc9c72facdf"
      },
      "execution_count": null,
      "outputs": [
        {
          "output_type": "stream",
          "name": "stdout",
          "text": [
            "Your balance is 1000.\n",
            "Deposited 500. New balance is 1500.\n",
            "Withdrew 200. New balance is 1300.\n",
            "Account Number: 123456789\n"
          ]
        }
      ]
    },
    {
      "cell_type": "markdown",
      "source": [
        " Q11. Write a class that overrides the `__str__` and `__add__` magic methods. What will these methods allow you to do.\n",
        " A-In Python, magic methods (also called dunder methods, short for \"double underscore\") are special methods that start and end with double underscores (__). They allow you to define behavior for built-in operations, like printing an object or adding two objects together.\n",
        "\n",
        "In this task, you are asked to override the __str__ and __add__ methods. Here’s how these methods work:\n",
        "\n",
        "__str__: This method is called by the str() function and the print() function to return a string representation of the object.\n",
        "__add__: This method allows you to define the behavior for the + operator when used with objects of your class."
      ],
      "metadata": {
        "id": "-Kb0W3hcBWpk"
      }
    },
    {
      "cell_type": "code",
      "source": [
        "class Book:\n",
        "    def __init__(self, title, author, pages):\n",
        "        self.title = title\n",
        "        self.author = author\n",
        "        self.pages = pages\n",
        "\n",
        "\n",
        "    def __str__(self):\n",
        "        return f\"'{self.title}' by {self.author} with {self.pages} pages\"\n",
        "\n",
        "\n",
        "    def __add__(self, other):\n",
        "        if isinstance(other, Book):\n",
        "            return self.pages + other.pages\n",
        "        return NotImplemented\n",
        "\n",
        "\n",
        "book1 = Book(\"1984\", \"George Orwell\", 328)\n",
        "book2 = Book(\"Animal Farm\", \"George Orwell\", 112)\n",
        "\n",
        "\n",
        "print(book1)\n",
        "\n",
        "total_pages = book1 + book2\n",
        "print(f\"Total pages of both books: {total_pages}\")\n"
      ],
      "metadata": {
        "colab": {
          "base_uri": "https://localhost:8080/"
        },
        "id": "_krmpQh9B2mM",
        "outputId": "adfbad90-fec2-485d-9d2a-295a806c2e45"
      },
      "execution_count": null,
      "outputs": [
        {
          "output_type": "stream",
          "name": "stdout",
          "text": [
            "'1984' by George Orwell with 328 pages\n",
            "Total pages of both books: 440\n"
          ]
        }
      ]
    },
    {
      "cell_type": "markdown",
      "source": [
        " Q12.Create a decorator that measures and prints the execution time of a function.\n",
        " A-A decorator in Python is a function that allows you to modify or enhance another function's behavior without changing its actual code. To create a decorator that measures and prints the execution time of a function, we can use the time module to record the start and end time of the function’s execution.\n",
        "\n",
        "Here’s how you can create a decorator for this purpose."
      ],
      "metadata": {
        "id": "immbwqAKCiTR"
      }
    },
    {
      "cell_type": "code",
      "source": [
        "import time\n",
        "\n",
        "# Define the decorator function\n",
        "def execution_time_decorator(func):\n",
        "    def wrapper(*args, **kwargs):\n",
        "        start_time = time.time()  # Record the start time\n",
        "        result = func(*args, **kwargs)  # Call the original function\n",
        "        end_time = time.time()  # Record the end time\n",
        "        execution_time = end_time - start_time  # Calculate the execution time\n",
        "        print(f\"Execution time of {func.__name__}: {execution_time:.4f} seconds\")\n",
        "        return result  # Return the result of the original function\n",
        "    return wrapper\n",
        "\n",
        "# Example of using the decorator\n",
        "\n",
        "@execution_time_decorator\n",
        "def slow_function():\n",
        "    time.sleep(2)  # Simulate a slow function by sleeping for 2 seconds\n",
        "    print(\"Function complete.\")\n",
        "\n",
        "@execution_time_decorator\n",
        "def add_numbers(a, b):\n",
        "    return a + b\n",
        "\n",
        "# Example usage\n",
        "slow_function()  # This will print the function's execution time\n",
        "\n",
        "result = add_numbers(5, 10)\n",
        "print(f\"Result of addition: {result}\")\n"
      ],
      "metadata": {
        "colab": {
          "base_uri": "https://localhost:8080/"
        },
        "id": "ane-2uoiDRX2",
        "outputId": "c1ed7895-3ef0-4c10-961e-18f231716f73"
      },
      "execution_count": null,
      "outputs": [
        {
          "output_type": "stream",
          "name": "stdout",
          "text": [
            "Function complete.\n",
            "Execution time of slow_function: 2.0028 seconds\n",
            "Execution time of add_numbers: 0.0000 seconds\n",
            "Result of addition: 15\n"
          ]
        }
      ]
    },
    {
      "cell_type": "markdown",
      "source": [
        " Q13. Explain the concept of the Diamond Problem in multiple inheritance. How does Python resolve it?\n",
        "A-The Diamond Problem occurs in object-oriented programming when a class inherits from two classes that both inherit from the same base class. This can create ambiguity, particularly in determining which method or property to use from the base class. The structure of inheritance forms a diamond shape, hence the name."
      ],
      "metadata": {
        "id": "RFeSylpIDhQb"
      }
    },
    {
      "cell_type": "code",
      "source": [
        "class A:\n",
        "    def greet(self):\n",
        "        print(\"Hello from A\")\n",
        "\n",
        "class B(A):\n",
        "    def greet(self):\n",
        "        print(\"Hello from B\")\n",
        "\n",
        "class C(A):\n",
        "    def greet(self):\n",
        "        print(\"Hello from C\")\n",
        "\n",
        "class D(B, C):\n",
        "    pass\n",
        "\n",
        "\n",
        "d = D()\n",
        "d.greet()\n"
      ],
      "metadata": {
        "colab": {
          "base_uri": "https://localhost:8080/"
        },
        "id": "AGAqhNUgiJew",
        "outputId": "0d345f3f-2728-4c8b-86c1-fb1118348430"
      },
      "execution_count": null,
      "outputs": [
        {
          "output_type": "stream",
          "name": "stdout",
          "text": [
            "Hello from B\n"
          ]
        }
      ]
    },
    {
      "cell_type": "markdown",
      "source": [
        "Python’s Resolution to the Diamond Problem\n",
        "Python uses the Method Resolution Order (MRO) to resolve the Diamond Problem. MRO defines the order in which methods should be inherited in the presence of multiple inheritance. Python uses the C3 linearization algorithm to determine the MRO."
      ],
      "metadata": {
        "id": "HM95lvuhiVFj"
      }
    },
    {
      "cell_type": "code",
      "source": [
        "print(D.mro())\n"
      ],
      "metadata": {
        "colab": {
          "base_uri": "https://localhost:8080/"
        },
        "id": "7GL8Catmi0bu",
        "outputId": "aae127fc-09c6-4803-d13d-60300bd5c064"
      },
      "execution_count": null,
      "outputs": [
        {
          "output_type": "stream",
          "name": "stdout",
          "text": [
            "[<class '__main__.D'>, <class '__main__.B'>, <class '__main__.C'>, <class '__main__.A'>, <class 'object'>]\n"
          ]
        }
      ]
    },
    {
      "cell_type": "markdown",
      "source": [
        " Q14. Write a class method that keeps track of the number of instances created from a class.\n",
        " A-To implement a class method that keeps track of the number of instances created from a class, you can use a class attribute to store the count and a class method to access or manipulate it. Class methods are defined using the @classmethod decorator, and they operate on the class itself, rather than on an instance."
      ],
      "metadata": {
        "id": "ew8FF_FdFhCW"
      }
    },
    {
      "cell_type": "code",
      "source": [
        "class MyClass:\n",
        "\n",
        "    instance_count = 0\n",
        "\n",
        "    def __init__(self):\n",
        "\n",
        "        MyClass.instance_count += 1\n",
        "\n",
        "    @classmethod\n",
        "    def get_instance_count(cls):\n",
        "\n",
        "        return cls.instance_count\n",
        "\n",
        "\n",
        "obj1 = MyClass()\n",
        "obj2 = MyClass()\n",
        "obj3 = MyClass()\n",
        "\n",
        "\n",
        "print(f\"Number of instances created: {MyClass.get_instance_count()}\")\n"
      ],
      "metadata": {
        "colab": {
          "base_uri": "https://localhost:8080/"
        },
        "id": "56tCDKwLGoBH",
        "outputId": "f0903620-bd4c-44c6-f8a0-72cdc8d18ab7"
      },
      "execution_count": null,
      "outputs": [
        {
          "output_type": "stream",
          "name": "stdout",
          "text": [
            "Number of instances created: 3\n"
          ]
        }
      ]
    },
    {
      "cell_type": "markdown",
      "source": [
        " Q15.Implement a static method in a class that checks if a given year is a leap year.\n",
        " A-To implement a static method in a class that checks if a given year is a leap year, you can define a class and then use a @staticmethod decorator for the leap year checker. Here's an example in Python:"
      ],
      "metadata": {
        "id": "vRcQJoCFG9VT"
      }
    },
    {
      "cell_type": "code",
      "source": [
        "#example\n",
        "class Year:\n",
        "\n",
        "    @staticmethod\n",
        "    def is_leap_year(year):\n",
        "        if (year % 4 == 0 and year % 100 != 0) or (year % 400 == 0):\n",
        "            return True\n",
        "        return False\n",
        "\n",
        "\n",
        "print(Year.is_leap_year(2016))\n",
        "print(Year.is_leap_year(2019))\n"
      ],
      "metadata": {
        "colab": {
          "base_uri": "https://localhost:8080/"
        },
        "id": "9Q1DdHKIff3D",
        "outputId": "735db32c-e1e8-47c5-b51b-46b60b546e32"
      },
      "execution_count": null,
      "outputs": [
        {
          "output_type": "stream",
          "name": "stdout",
          "text": [
            "True\n",
            "False\n"
          ]
        }
      ]
    },
    {
      "cell_type": "code",
      "source": [],
      "metadata": {
        "id": "IS_Av3QRflWZ"
      },
      "execution_count": null,
      "outputs": []
    }
  ]
}